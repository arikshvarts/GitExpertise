{
  "cells": [
    {
      "cell_type": "code",
      "source": [
        "pip install -r 'requirements_remaining.txt'\n"
      ],
      "metadata": {
        "id": "EmxWYKPo3x1L",
        "outputId": "77437108-244f-4b6e-f394-f52dd55ad14d",
        "colab": {
          "base_uri": "https://localhost:8080/"
        }
      },
      "id": "EmxWYKPo3x1L",
      "execution_count": 3,
      "outputs": [
        {
          "output_type": "stream",
          "name": "stdout",
          "text": [
            "\u001b[31mERROR: Could not open requirements file: [Errno 2] No such file or directory: 'requirements_remaining.txt'\u001b[0m\u001b[31m\n",
            "\u001b[0m"
          ]
        }
      ]
    },
    {
      "cell_type": "code",
      "execution_count": 1,
      "id": "992aea47-61ef-47b2-80d7-4f80e50c7ea6",
      "metadata": {
        "id": "992aea47-61ef-47b2-80d7-4f80e50c7ea6",
        "outputId": "c670e6fd-992f-4acb-dfae-f7af696dadfe",
        "colab": {
          "base_uri": "https://localhost:8080/",
          "height": 383
        }
      },
      "outputs": [
        {
          "output_type": "error",
          "ename": "ModuleNotFoundError",
          "evalue": "No module named 'webdataset'",
          "traceback": [
            "\u001b[0;31m---------------------------------------------------------------------------\u001b[0m",
            "\u001b[0;31mModuleNotFoundError\u001b[0m                       Traceback (most recent call last)",
            "\u001b[0;32m<ipython-input-1-9190922d53f1>\u001b[0m in \u001b[0;36m<cell line: 9>\u001b[0;34m()\u001b[0m\n\u001b[1;32m      7\u001b[0m \u001b[0;32mimport\u001b[0m \u001b[0mos\u001b[0m\u001b[0;34m\u001b[0m\u001b[0;34m\u001b[0m\u001b[0m\n\u001b[1;32m      8\u001b[0m \u001b[0;32mimport\u001b[0m \u001b[0mrandom\u001b[0m\u001b[0;34m\u001b[0m\u001b[0;34m\u001b[0m\u001b[0m\n\u001b[0;32m----> 9\u001b[0;31m \u001b[0;32mimport\u001b[0m \u001b[0mwebdataset\u001b[0m \u001b[0;32mas\u001b[0m \u001b[0mwds\u001b[0m\u001b[0;34m\u001b[0m\u001b[0;34m\u001b[0m\u001b[0m\n\u001b[0m\u001b[1;32m     10\u001b[0m \u001b[0;32mfrom\u001b[0m \u001b[0mpathlib\u001b[0m \u001b[0;32mimport\u001b[0m \u001b[0mPath\u001b[0m\u001b[0;34m\u001b[0m\u001b[0;34m\u001b[0m\u001b[0m\n\u001b[1;32m     11\u001b[0m \u001b[0;32mfrom\u001b[0m \u001b[0mcopy\u001b[0m \u001b[0;32mimport\u001b[0m \u001b[0mdeepcopy\u001b[0m\u001b[0;34m\u001b[0m\u001b[0;34m\u001b[0m\u001b[0m\n",
            "\u001b[0;31mModuleNotFoundError\u001b[0m: No module named 'webdataset'",
            "",
            "\u001b[0;31m---------------------------------------------------------------------------\u001b[0;32m\nNOTE: If your import is failing due to a missing package, you can\nmanually install dependencies using either !pip or !apt.\n\nTo view examples of installing some common dependencies, click the\n\"Open Examples\" button below.\n\u001b[0;31m---------------------------------------------------------------------------\u001b[0m\n"
          ],
          "errorDetails": {
            "actions": [
              {
                "action": "open_url",
                "actionText": "Open Examples",
                "url": "/notebooks/snippets/importing_libraries.ipynb"
              }
            ]
          }
        }
      ],
      "source": [
        "import sys\n",
        "sys.path.append('..')\n",
        "\n",
        "import argparse\n",
        "import logging\n",
        "import math\n",
        "import os\n",
        "import random\n",
        "import webdataset as wds\n",
        "from pathlib import Path\n",
        "from copy import deepcopy\n",
        "import pandas as pd\n",
        "import numpy as np\n",
        "from PIL import Image\n",
        "\n",
        "from pyproj import Geod\n",
        "from shapely.geometry import shape as shapey\n",
        "from shapely.wkt import loads as shape_loads\n",
        "\n",
        "import torch\n",
        "from torchvision import transforms\n",
        "\n",
        "from diffusionsat import (\n",
        "    SatUNet, DiffusionSatPipeline,\n",
        "    SampleEqually,\n",
        "    fmow_tokenize_caption, fmow_numerical_metadata,\n",
        "    spacenet_tokenize_caption, spacenet_numerical_metadata,\n",
        "    satlas_tokenize_caption, satlas_numerical_metadata,\n",
        "    combine_text_and_metadata, metadata_normalize,\n",
        ")"
      ]
    },
    {
      "cell_type": "code",
      "execution_count": null,
      "id": "1a4f73a1-118b-48ef-bebd-80edb2921200",
      "metadata": {
        "id": "1a4f73a1-118b-48ef-bebd-80edb2921200"
      },
      "outputs": [],
      "source": [
        "# cache location\n",
        "os.environ[\"HF_HOME\"] = \"path/to/.cache/\""
      ]
    },
    {
      "cell_type": "markdown",
      "id": "e5629857-3be1-4b10-8ece-b2cbf016a512",
      "metadata": {
        "id": "e5629857-3be1-4b10-8ece-b2cbf016a512"
      },
      "source": [
        "# Change caption/metadata here"
      ]
    },
    {
      "cell_type": "code",
      "execution_count": null,
      "id": "51a1080e-9075-4f79-90bb-71214c54a564",
      "metadata": {
        "id": "51a1080e-9075-4f79-90bb-71214c54a564"
      },
      "outputs": [],
      "source": [
        "caption = \"a fmow satellite image of a amusement park in Australia\"\n",
        "# Normalized metadata: [longitude, latitude, gsd, cloud cover, year, month, day]\n",
        "metadata = [ 925.8798,  345.2111, 411.4541,    0.0000,  308.3333,  166.6667, 354.8387]\n",
        "\n",
        "# Or provide metadata values and then normalize\n",
        "caption = \"a fmow satellite image of a electric substation in India\"\n",
        "metadata = metadata_normalize([76.5712666476, 28.6965307997, 0.929417550564, 0.0765712666476, 2015, 2, 27]).tolist()"
      ]
    },
    {
      "cell_type": "markdown",
      "id": "5bba31de-9f57-4640-a168-47b33a149bbf",
      "metadata": {
        "id": "5bba31de-9f57-4640-a168-47b33a149bbf"
      },
      "source": [
        "# Pipe 1: No finetuning"
      ]
    },
    {
      "cell_type": "code",
      "execution_count": null,
      "id": "5b776be1-9a87-4188-823b-d8a300e7e988",
      "metadata": {
        "id": "5b776be1-9a87-4188-823b-d8a300e7e988"
      },
      "outputs": [],
      "source": [
        "unet1 = SatUNet.from_pretrained(\"stabilityai/stable-diffusion-2-1\", subfolder=\"unet\", use_metadata=False, torch_dtype=torch.float16)\n",
        "pipe1 = DiffusionSatPipeline.from_pretrained(\"stabilityai/stable-diffusion-2-1\", unet=unet1, torch_dtype=torch.float16)\n",
        "pipe1 = pipe1.to(\"cuda\")"
      ]
    },
    {
      "cell_type": "markdown",
      "id": "f59d5e30-6235-45ff-a76a-78361d3f5393",
      "metadata": {
        "id": "f59d5e30-6235-45ff-a76a-78361d3f5393"
      },
      "source": [
        "#### Prompt pipe 1"
      ]
    },
    {
      "cell_type": "code",
      "execution_count": null,
      "id": "140e9d0e-7a0f-46df-9d5b-54f74f50425b",
      "metadata": {
        "id": "140e9d0e-7a0f-46df-9d5b-54f74f50425b"
      },
      "outputs": [],
      "source": [
        "image = pipe1(caption, num_inference_steps=50, guidance_scale=7.5, height=512, width=512).images[0]\n",
        "image"
      ]
    },
    {
      "cell_type": "markdown",
      "id": "5c439a0f-cb8c-47bf-a68c-3d7f4fa8f102",
      "metadata": {
        "id": "5c439a0f-cb8c-47bf-a68c-3d7f4fa8f102"
      },
      "source": [
        "# Pipe: Finetuning with metadata, SNR 5"
      ]
    },
    {
      "cell_type": "code",
      "execution_count": null,
      "id": "33f7a1ef-0df6-4872-855d-31f7215b0d69",
      "metadata": {
        "id": "33f7a1ef-0df6-4872-855d-31f7215b0d69"
      },
      "outputs": [],
      "source": [
        "# If running on CPU (not recommended), then comment-out casting to float16 and the line which shifts the pipe to cuda\n",
        "\n",
        "path = 'path/to/diffusion_sat_checkpoints/finetune_sd21_sn-satlas-fmow_snr5_md7norm_bs64/'\n",
        "unet = SatUNet.from_pretrained(path + 'checkpoint-150000', subfolder=\"unet\", torch_dtype=torch.float16)\n",
        "pipe = DiffusionSatPipeline.from_pretrained(path, unet=unet, torch_dtype=torch.float16)\n",
        "pipe = pipe.to(\"cuda\")"
      ]
    },
    {
      "cell_type": "markdown",
      "id": "ff89473c-09b2-4862-9cd5-ed7f80e00161",
      "metadata": {
        "id": "ff89473c-09b2-4862-9cd5-ed7f80e00161"
      },
      "source": [
        "#### Prompt Pipe"
      ]
    },
    {
      "cell_type": "markdown",
      "id": "d5c5f9f2-daaa-4aee-ad7f-0f85d4dc976e",
      "metadata": {
        "id": "d5c5f9f2-daaa-4aee-ad7f-0f85d4dc976e"
      },
      "source": [
        "Play around with guidance scale and number of inference steps to generate images"
      ]
    },
    {
      "cell_type": "code",
      "execution_count": null,
      "id": "a8899080-c3ed-4872-b81a-512388c6261d",
      "metadata": {
        "id": "a8899080-c3ed-4872-b81a-512388c6261d"
      },
      "outputs": [],
      "source": [
        "image = pipe(caption, metadata=metadata, num_inference_steps=20, guidance_scale=7.5, height=512, width=512).images[0]\n",
        "image"
      ]
    }
  ],
  "metadata": {
    "kernelspec": {
      "display_name": "Python 3 (ipykernel)",
      "language": "python",
      "name": "python3"
    },
    "language_info": {
      "codemirror_mode": {
        "name": "ipython",
        "version": 3
      },
      "file_extension": ".py",
      "mimetype": "text/x-python",
      "name": "python",
      "nbconvert_exporter": "python",
      "pygments_lexer": "ipython3",
      "version": "3.10.14"
    },
    "colab": {
      "provenance": []
    }
  },
  "nbformat": 4,
  "nbformat_minor": 5
}