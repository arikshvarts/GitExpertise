{
 "cells": [
  {
   "cell_type": "code",
   "execution_count": 1,
   "id": "8511d94c",
   "metadata": {},
   "outputs": [],
   "source": [
    "import pandas as pd"
   ]
  },
  {
   "cell_type": "code",
   "execution_count": 2,
   "id": "0b075300",
   "metadata": {},
   "outputs": [
    {
     "name": "stdout",
     "output_type": "stream",
     "text": [
      "hi am self\n"
     ]
    }
   ],
   "source": [
    "print('hi am self')"
   ]
  },
  {
   "cell_type": "code",
   "execution_count": 4,
   "id": "d81dbde6",
   "metadata": {},
   "outputs": [
    {
     "name": "stdout",
     "output_type": "stream",
     "text": [
      "hi check 2\n"
     ]
    }
   ],
   "source": [
    "print (\"hi check 2\")"
   ]
  },
  {
   "cell_type": "code",
   "execution_count": null,
   "id": "2a6bc276",
   "metadata": {},
   "outputs": [],
   "source": []
  }
 ],
 "metadata": {
  "kernelspec": {
   "display_name": "Python 3 (ipykernel)",
   "language": "python",
   "name": "python3"
  },
  "language_info": {
   "codemirror_mode": {
    "name": "ipython",
    "version": 3
   },
   "file_extension": ".py",
   "mimetype": "text/x-python",
   "name": "python",
   "nbconvert_exporter": "python",
   "pygments_lexer": "ipython3",
   "version": "3.9.7"
  }
 },
 "nbformat": 4,
 "nbformat_minor": 5
}
