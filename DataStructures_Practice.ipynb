{
 "cells": [
  {
   "cell_type": "code",
   "execution_count": 52,
   "id": "5a0a7439",
   "metadata": {},
   "outputs": [],
   "source": [
    "import collections\n",
    "def minSetSize(arr):\n",
    "    counter =collections.Counter(arr)\n",
    "    counter2=0\n",
    "    N =len(arr)\n",
    "    print(counter)\n",
    "    for key in counter.most_common():\n",
    "        print(key[0])\n",
    "        try:\n",
    "            while True:\n",
    "                arr.remove(key[0])\n",
    "        except ValueError:\n",
    "            print(\"val\")\n",
    "            pass\n",
    "        print(arr)\n",
    "        counter2+=1\n",
    "        if len(arr)<=N//2:\n",
    "            return counter2\n",
    "                "
   ]
  },
  {
   "cell_type": "code",
   "execution_count": 53,
   "id": "fa2d9021",
   "metadata": {},
   "outputs": [
    {
     "name": "stdout",
     "output_type": "stream",
     "text": [
      "Counter({9: 2, 38: 2, 19: 2, 77: 1, 63: 1, 22: 1, 92: 1, 14: 1, 54: 1, 8: 1, 18: 1, 68: 1, 58: 1})\n",
      "9\n",
      "val\n",
      "[77, 63, 22, 92, 14, 54, 8, 38, 18, 19, 38, 68, 58, 19]\n",
      "38\n",
      "val\n",
      "[77, 63, 22, 92, 14, 54, 8, 18, 19, 68, 58, 19]\n",
      "19\n",
      "val\n",
      "[77, 63, 22, 92, 14, 54, 8, 18, 68, 58]\n",
      "77\n",
      "val\n",
      "[63, 22, 92, 14, 54, 8, 18, 68, 58]\n",
      "63\n",
      "val\n",
      "[22, 92, 14, 54, 8, 18, 68, 58]\n",
      "5\n"
     ]
    }
   ],
   "source": [
    "print(minSetSize([9,77,63,22,92,9,14,54,8,38,18,19,38,68,58,19]))"
   ]
  },
  {
   "cell_type": "code",
   "execution_count": 56,
   "id": "4e895b0b",
   "metadata": {},
   "outputs": [
    {
     "name": "stdout",
     "output_type": "stream",
     "text": [
      "1\n"
     ]
    }
   ],
   "source": [
    "print(len(set(str(11))))"
   ]
  },
  {
   "cell_type": "code",
   "execution_count": null,
   "id": "215090e0",
   "metadata": {},
   "outputs": [],
   "source": []
  }
 ],
 "metadata": {
  "kernelspec": {
   "display_name": "Python 3 (ipykernel)",
   "language": "python",
   "name": "python3"
  },
  "language_info": {
   "codemirror_mode": {
    "name": "ipython",
    "version": 3
   },
   "file_extension": ".py",
   "mimetype": "text/x-python",
   "name": "python",
   "nbconvert_exporter": "python",
   "pygments_lexer": "ipython3",
   "version": "3.9.7"
  }
 },
 "nbformat": 4,
 "nbformat_minor": 5
}
