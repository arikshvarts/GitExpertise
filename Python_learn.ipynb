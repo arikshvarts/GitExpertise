{
 "cells": [
  {
   "cell_type": "code",
   "execution_count": 32,
   "id": "e22bab90",
   "metadata": {},
   "outputs": [],
   "source": [
    "def sumNums (*args,**kwargs):\n",
    "    for value in kwargs.values():\n",
    "        print(value)\n",
    "    for num in args:\n",
    "        print(num)"
   ]
  },
  {
   "cell_type": "code",
   "execution_count": 33,
   "id": "ae570453",
   "metadata": {},
   "outputs": [
    {
     "name": "stdout",
     "output_type": "stream",
     "text": [
      "this is avalue1\n",
      "this is value2\n",
      "this is value3\n",
      "1\n",
      "2\n",
      "3\n"
     ]
    }
   ],
   "source": [
    "sumNums(1,2,3,key1=\"this is avalue1\",key2=\"this is value2\",key3=\"this is value3\")"
   ]
  },
  {
   "cell_type": "code",
   "execution_count": 55,
   "id": "365c3e8c",
   "metadata": {},
   "outputs": [],
   "source": [
    "class Car:\n",
    "    def __init__(self,mileage,color,isPretty):\n",
    "        self.mileage=mileage\n",
    "        self.color=color\n",
    "        self.isPretty=isPretty\n",
    "    def __str__(self):\n",
    "        return \"hi i am car\""
   ]
  },
  {
   "cell_type": "code",
   "execution_count": 56,
   "id": "2c598948",
   "metadata": {},
   "outputs": [],
   "source": [
    "car1 = Car(100,\"brown\",True)"
   ]
  },
  {
   "cell_type": "code",
   "execution_count": 57,
   "id": "72594777",
   "metadata": {},
   "outputs": [
    {
     "name": "stdout",
     "output_type": "stream",
     "text": [
      "100\n"
     ]
    }
   ],
   "source": [
    "print(car1.mileage)"
   ]
  },
  {
   "cell_type": "code",
   "execution_count": 58,
   "id": "f6a0cc6b",
   "metadata": {},
   "outputs": [
    {
     "name": "stdout",
     "output_type": "stream",
     "text": [
      "hi i am car\n"
     ]
    }
   ],
   "source": [
    "print(car1)"
   ]
  },
  {
   "cell_type": "code",
   "execution_count": 78,
   "id": "a389aefc",
   "metadata": {},
   "outputs": [],
   "source": [
    "class Volvo(Car):\n",
    "        def __init__(self,*args,**kwargs):\n",
    "            super().__init__(*args,**kwargs)"
   ]
  },
  {
   "cell_type": "code",
   "execution_count": 79,
   "id": "27fb1970",
   "metadata": {},
   "outputs": [],
   "source": [
    "volvo = Volvo(35,\"brown\",False)"
   ]
  },
  {
   "cell_type": "code",
   "execution_count": 80,
   "id": "a9ae9be7",
   "metadata": {},
   "outputs": [
    {
     "name": "stdout",
     "output_type": "stream",
     "text": [
      "35\n"
     ]
    }
   ],
   "source": [
    "print(volvo.mileage)"
   ]
  },
  {
   "cell_type": "code",
   "execution_count": 81,
   "id": "e84dd5a0",
   "metadata": {},
   "outputs": [],
   "source": [
    "count, fruit, price = (2, 'apple', 3.5)"
   ]
  },
  {
   "cell_type": "code",
   "execution_count": 83,
   "id": "2b9105a0",
   "metadata": {},
   "outputs": [
    {
     "name": "stdout",
     "output_type": "stream",
     "text": [
      "apple\n"
     ]
    }
   ],
   "source": [
    "print(fruit)"
   ]
  },
  {
   "cell_type": "code",
   "execution_count": 86,
   "id": "a20cb09e",
   "metadata": {},
   "outputs": [],
   "source": [
    "list1 = [1,2,3,4,56]"
   ]
  },
  {
   "cell_type": "code",
   "execution_count": 87,
   "id": "3c0d1216",
   "metadata": {},
   "outputs": [
    {
     "name": "stdout",
     "output_type": "stream",
     "text": [
      "<class 'list'>\n"
     ]
    }
   ],
   "source": [
    "print(type(list1))"
   ]
  },
  {
   "cell_type": "code",
   "execution_count": 88,
   "id": "9f7f798a",
   "metadata": {},
   "outputs": [],
   "source": [
    "num1 = list1.pop(3)"
   ]
  },
  {
   "cell_type": "code",
   "execution_count": 89,
   "id": "95fb4a29",
   "metadata": {},
   "outputs": [
    {
     "data": {
      "text/plain": [
       "4"
      ]
     },
     "execution_count": 89,
     "metadata": {},
     "output_type": "execute_result"
    }
   ],
   "source": [
    "num1"
   ]
  },
  {
   "cell_type": "code",
   "execution_count": 90,
   "id": "0dff6a8b",
   "metadata": {},
   "outputs": [
    {
     "data": {
      "text/plain": [
       "[1, 2, 3, 56]"
      ]
     },
     "execution_count": 90,
     "metadata": {},
     "output_type": "execute_result"
    }
   ],
   "source": [
    "list1"
   ]
  },
  {
   "cell_type": "code",
   "execution_count": 92,
   "id": "afab7cc2",
   "metadata": {},
   "outputs": [],
   "source": [
    "from collections import namedtuple"
   ]
  },
  {
   "cell_type": "code",
   "execution_count": 95,
   "id": "122eac91",
   "metadata": {},
   "outputs": [],
   "source": [
    "Color = namedtuple('User_Cardentials',['id',\"name\",\"surname\",'isPretty'])\n",
    "color = Color(322922519,'arik','shvarts',True)"
   ]
  },
  {
   "cell_type": "code",
   "execution_count": 97,
   "id": "03a9797e",
   "metadata": {},
   "outputs": [
    {
     "data": {
      "text/plain": [
       "322922519"
      ]
     },
     "execution_count": 97,
     "metadata": {},
     "output_type": "execute_result"
    }
   ],
   "source": [
    "color.id"
   ]
  },
  {
   "cell_type": "code",
   "execution_count": 98,
   "id": "1e0433aa",
   "metadata": {},
   "outputs": [],
   "source": [
    "queue_try = []"
   ]
  },
  {
   "cell_type": "code",
   "execution_count": 100,
   "id": "ecef269f",
   "metadata": {},
   "outputs": [],
   "source": [
    "queue_try.insert(0,120)\n",
    "queue_try.insert(0,5)\n",
    "queue_try.insert(0,1)\n",
    "queue_try.insert(0,77)"
   ]
  },
  {
   "cell_type": "code",
   "execution_count": 104,
   "id": "15c286d9",
   "metadata": {},
   "outputs": [
    {
     "data": {
      "text/plain": [
       "1"
      ]
     },
     "execution_count": 104,
     "metadata": {},
     "output_type": "execute_result"
    }
   ],
   "source": [
    "queue_try.pop()"
   ]
  },
  {
   "cell_type": "code",
   "execution_count": null,
   "id": "4e38c8d6",
   "metadata": {},
   "outputs": [],
   "source": []
  },
  {
   "cell_type": "code",
   "execution_count": null,
   "id": "b5c11c1c",
   "metadata": {},
   "outputs": [],
   "source": []
  },
  {
   "cell_type": "code",
   "execution_count": null,
   "id": "f5994f0b",
   "metadata": {},
   "outputs": [],
   "source": []
  }
 ],
 "metadata": {
  "kernelspec": {
   "display_name": "Python 3 (ipykernel)",
   "language": "python",
   "name": "python3"
  },
  "language_info": {
   "codemirror_mode": {
    "name": "ipython",
    "version": 3
   },
   "file_extension": ".py",
   "mimetype": "text/x-python",
   "name": "python",
   "nbconvert_exporter": "python",
   "pygments_lexer": "ipython3",
   "version": "3.9.7"
  }
 },
 "nbformat": 4,
 "nbformat_minor": 5
}
