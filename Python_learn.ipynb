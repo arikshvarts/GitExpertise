{
 "cells": [
  {
   "cell_type": "code",
   "execution_count": 32,
   "id": "bdff3a61",
   "metadata": {},
   "outputs": [],
   "source": [
    "def sumNums (*args,**kwargs):\n",
    "    for value in kwargs.values():\n",
    "        print(value)\n",
    "    for num in args:\n",
    "        print(num)"
   ]
  },
  {
   "cell_type": "code",
   "execution_count": 33,
   "id": "52c353c4",
   "metadata": {},
   "outputs": [
    {
     "name": "stdout",
     "output_type": "stream",
     "text": [
      "this is avalue1\n",
      "this is value2\n",
      "this is value3\n",
      "1\n",
      "2\n",
      "3\n"
     ]
    }
   ],
   "source": [
    "sumNums(1,2,3,key1=\"this is avalue1\",key2=\"this is value2\",key3=\"this is value3\")"
   ]
  },
  {
   "cell_type": "code",
   "execution_count": 55,
   "id": "14e2459a",
   "metadata": {},
   "outputs": [],
   "source": [
    "class Car:\n",
    "    def __init__(self,mileage,color,isPretty):\n",
    "        self.mileage=mileage\n",
    "        self.color=color\n",
    "        self.isPretty=isPretty\n",
    "    def __str__(self):\n",
    "        return \"hi i am car\""
   ]
  },
  {
   "cell_type": "code",
   "execution_count": 56,
   "id": "81c44124",
   "metadata": {},
   "outputs": [],
   "source": [
    "car1 = Car(100,\"brown\",True)"
   ]
  },
  {
   "cell_type": "code",
   "execution_count": 57,
   "id": "a66df525",
   "metadata": {},
   "outputs": [
    {
     "name": "stdout",
     "output_type": "stream",
     "text": [
      "100\n"
     ]
    }
   ],
   "source": [
    "print(car1.mileage)"
   ]
  },
  {
   "cell_type": "code",
   "execution_count": 58,
   "id": "ef6a26e9",
   "metadata": {},
   "outputs": [
    {
     "name": "stdout",
     "output_type": "stream",
     "text": [
      "hi i am car\n"
     ]
    }
   ],
   "source": [
    "print(car1)"
   ]
  },
  {
   "cell_type": "code",
   "execution_count": 78,
   "id": "920e891e",
   "metadata": {},
   "outputs": [],
   "source": [
    "class Volvo(Car):\n",
    "        def __init__(self,*args,**kwargs):\n",
    "            super().__init__(*args,**kwargs)"
   ]
  },
  {
   "cell_type": "code",
   "execution_count": 79,
   "id": "7b95d633",
   "metadata": {},
   "outputs": [],
   "source": [
    "volvo = Volvo(35,\"brown\",False)"
   ]
  },
  {
   "cell_type": "code",
   "execution_count": 80,
   "id": "8914efcd",
   "metadata": {},
   "outputs": [
    {
     "name": "stdout",
     "output_type": "stream",
     "text": [
      "35\n"
     ]
    }
   ],
   "source": [
    "print(volvo.mileage)"
   ]
  },
  {
   "cell_type": "code",
   "execution_count": 81,
   "id": "0a2c46b5",
   "metadata": {},
   "outputs": [],
   "source": [
    "count, fruit, price = (2, 'apple', 3.5)"
   ]
  },
  {
   "cell_type": "code",
   "execution_count": 83,
   "id": "b72df71d",
   "metadata": {},
   "outputs": [
    {
     "name": "stdout",
     "output_type": "stream",
     "text": [
      "apple\n"
     ]
    }
   ],
   "source": [
    "print(fruit)"
   ]
  },
  {
   "cell_type": "code",
   "execution_count": 86,
   "id": "dfeef41e",
   "metadata": {},
   "outputs": [],
   "source": [
    "list1 = [1,2,3,4,56]"
   ]
  },
  {
   "cell_type": "code",
   "execution_count": 87,
   "id": "9eb1b8af",
   "metadata": {},
   "outputs": [
    {
     "name": "stdout",
     "output_type": "stream",
     "text": [
      "<class 'list'>\n"
     ]
    }
   ],
   "source": [
    "print(type(list1))"
   ]
  },
  {
   "cell_type": "code",
   "execution_count": 88,
   "id": "cee7b3bf",
   "metadata": {},
   "outputs": [],
   "source": [
    "num1 = list1.pop(3)"
   ]
  },
  {
   "cell_type": "code",
   "execution_count": 89,
   "id": "23969f16",
   "metadata": {},
   "outputs": [
    {
     "data": {
      "text/plain": [
       "4"
      ]
     },
     "execution_count": 89,
     "metadata": {},
     "output_type": "execute_result"
    }
   ],
   "source": [
    "num1"
   ]
  },
  {
   "cell_type": "code",
   "execution_count": 90,
   "id": "a9f613ed",
   "metadata": {},
   "outputs": [
    {
     "data": {
      "text/plain": [
       "[1, 2, 3, 56]"
      ]
     },
     "execution_count": 90,
     "metadata": {},
     "output_type": "execute_result"
    }
   ],
   "source": [
    "list1"
   ]
  },
  {
   "cell_type": "code",
   "execution_count": 92,
   "id": "7ad92d01",
   "metadata": {},
   "outputs": [],
   "source": [
    "from collections import namedtuple"
   ]
  },
  {
   "cell_type": "code",
   "execution_count": 95,
   "id": "e9c6d970",
   "metadata": {},
   "outputs": [],
   "source": [
    "Color = namedtuple('User_Cardentials',['id',\"name\",\"surname\",'isPretty'])\n",
    "color = Color(322922519,'arik','shvarts',True)"
   ]
  },
  {
   "cell_type": "code",
   "execution_count": 97,
   "id": "711cf748",
   "metadata": {},
   "outputs": [
    {
     "data": {
      "text/plain": [
       "322922519"
      ]
     },
     "execution_count": 97,
     "metadata": {},
     "output_type": "execute_result"
    }
   ],
   "source": [
    "color.id"
   ]
  },
  {
   "cell_type": "code",
   "execution_count": 98,
   "id": "6bfc1eb4",
   "metadata": {},
   "outputs": [],
   "source": [
    "queue_try = []"
   ]
  },
  {
   "cell_type": "code",
   "execution_count": 100,
   "id": "718d2329",
   "metadata": {},
   "outputs": [],
   "source": [
    "queue_try.insert(0,120)\n",
    "queue_try.insert(0,5)\n",
    "queue_try.insert(0,1)\n",
    "queue_try.insert(0,77)"
   ]
  },
  {
   "cell_type": "code",
   "execution_count": null,
   "id": "43f8f9aa",
   "metadata": {},
   "outputs": [],
   "source": [
    "queue_try.pop"
   ]
  }
 ],
 "metadata": {
  "kernelspec": {
   "display_name": "Python 3 (ipykernel)",
   "language": "python",
   "name": "python3"
  },
  "language_info": {
   "codemirror_mode": {
    "name": "ipython",
    "version": 3
   },
   "file_extension": ".py",
   "mimetype": "text/x-python",
   "name": "python",
   "nbconvert_exporter": "python",
   "pygments_lexer": "ipython3",
   "version": "3.9.7"
  }
 },
 "nbformat": 4,
 "nbformat_minor": 5
}
