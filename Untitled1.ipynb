{
 "cells": [
  {
   "cell_type": "code",
   "execution_count": 48,
   "id": "b8a7077a",
   "metadata": {},
   "outputs": [],
   "source": [
    "def checkAnomaly(func):\n",
    "    def wrapper(*args, **kwargs):\n",
    "        print(\"i am checking an anomaly\")\n",
    "        func(*args, **kwargs)\n",
    "    return wrapper"
   ]
  },
  {
   "cell_type": "code",
   "execution_count": 49,
   "id": "91127903",
   "metadata": {},
   "outputs": [],
   "source": [
    "@checkAnomaly\n",
    "def CheckSmallAnomaly(*args, **kwargs):\n",
    "    print(\"found anomaly\")\n",
    "    for arg in args:\n",
    "        print(arg)"
   ]
  },
  {
   "cell_type": "code",
   "execution_count": 50,
   "id": "55d7ca2e",
   "metadata": {},
   "outputs": [
    {
     "name": "stdout",
     "output_type": "stream",
     "text": [
      "i am checking an anomaly\n",
      "found anomaly\n",
      "3\n",
      "2\n",
      "7\n",
      "1\n",
      "8\n",
      "3\n"
     ]
    }
   ],
   "source": [
    "CheckSmallAnomaly(3,2,7,1,8,3)"
   ]
  },
  {
   "cell_type": "code",
   "execution_count": null,
   "id": "4231a9e1",
   "metadata": {},
   "outputs": [],
   "source": [
    "def checkNum(num):\n",
    "    return num"
   ]
  },
  {
   "cell_type": "code",
   "execution_count": 51,
   "id": "9473fc7e",
   "metadata": {},
   "outputs": [
    {
     "ename": "NameError",
     "evalue": "name 'checkNum' is not defined",
     "output_type": "error",
     "traceback": [
      "\u001b[1;31m---------------------------------------------------------------------------\u001b[0m",
      "\u001b[1;31mNameError\u001b[0m                                 Traceback (most recent call last)",
      "\u001b[1;32m~\\AppData\\Local\\Temp/ipykernel_20384/1704531103.py\u001b[0m in \u001b[0;36m<module>\u001b[1;34m\u001b[0m\n\u001b[1;32m----> 1\u001b[1;33m \u001b[0mprint\u001b[0m\u001b[1;33m(\u001b[0m\u001b[0mcheckNum\u001b[0m\u001b[1;33m)\u001b[0m\u001b[1;33m\u001b[0m\u001b[1;33m\u001b[0m\u001b[0m\n\u001b[0m",
      "\u001b[1;31mNameError\u001b[0m: name 'checkNum' is not defined"
     ]
    }
   ],
   "source": [
    "print(checkNum)"
   ]
  },
  {
   "cell_type": "code",
   "execution_count": 52,
   "id": "3f8b7804",
   "metadata": {},
   "outputs": [],
   "source": [
    "class mlModel:\n",
    "    def __init__(self,name,parmathers):\n",
    "        self.name = name\n",
    "        self.parmathers = parmathers\n"
   ]
  },
  {
   "cell_type": "code",
   "execution_count": 53,
   "id": "0afbb44b",
   "metadata": {},
   "outputs": [],
   "source": [
    "model1= mlModel('sv',3)"
   ]
  },
  {
   "cell_type": "code",
   "execution_count": 55,
   "id": "63bee473",
   "metadata": {},
   "outputs": [],
   "source": [
    "model1.name='jponi'"
   ]
  },
  {
   "cell_type": "code",
   "execution_count": 57,
   "id": "f8012c49",
   "metadata": {},
   "outputs": [],
   "source": [
    "del model1.name"
   ]
  },
  {
   "cell_type": "code",
   "execution_count": 58,
   "id": "87242e8c",
   "metadata": {},
   "outputs": [
    {
     "ename": "AttributeError",
     "evalue": "'mlModel' object has no attribute 'name'",
     "output_type": "error",
     "traceback": [
      "\u001b[1;31m---------------------------------------------------------------------------\u001b[0m",
      "\u001b[1;31mAttributeError\u001b[0m                            Traceback (most recent call last)",
      "\u001b[1;32m~\\AppData\\Local\\Temp/ipykernel_20384/1275600017.py\u001b[0m in \u001b[0;36m<module>\u001b[1;34m\u001b[0m\n\u001b[1;32m----> 1\u001b[1;33m \u001b[0mmodel1\u001b[0m\u001b[1;33m.\u001b[0m\u001b[0mname\u001b[0m\u001b[1;33m\u001b[0m\u001b[1;33m\u001b[0m\u001b[0m\n\u001b[0m",
      "\u001b[1;31mAttributeError\u001b[0m: 'mlModel' object has no attribute 'name'"
     ]
    }
   ],
   "source": [
    "model1.name"
   ]
  },
  {
   "cell_type": "code",
   "execution_count": 59,
   "id": "f8c59f27",
   "metadata": {},
   "outputs": [],
   "source": [
    "import collections"
   ]
  },
  {
   "cell_type": "code",
   "execution_count": 61,
   "id": "9ae7e310",
   "metadata": {},
   "outputs": [],
   "source": [
    "from collections import deque"
   ]
  },
  {
   "cell_type": "code",
   "execution_count": 62,
   "id": "c2d4149e",
   "metadata": {},
   "outputs": [],
   "source": [
    "d1 = deque()"
   ]
  },
  {
   "cell_type": "code",
   "execution_count": 64,
   "id": "84dc3683",
   "metadata": {},
   "outputs": [],
   "source": [
    "d1.append(4)"
   ]
  },
  {
   "cell_type": "code",
   "execution_count": 65,
   "id": "452f4d62",
   "metadata": {},
   "outputs": [
    {
     "data": {
      "text/plain": [
       "deque([4, 4])"
      ]
     },
     "execution_count": 65,
     "metadata": {},
     "output_type": "execute_result"
    }
   ],
   "source": [
    "d1"
   ]
  },
  {
   "cell_type": "code",
   "execution_count": 66,
   "id": "923e6102",
   "metadata": {},
   "outputs": [],
   "source": [
    "d1.append(5)"
   ]
  },
  {
   "cell_type": "code",
   "execution_count": 67,
   "id": "88791554",
   "metadata": {},
   "outputs": [],
   "source": [
    "d1.appendleft(1)"
   ]
  },
  {
   "cell_type": "code",
   "execution_count": 69,
   "id": "ee683261",
   "metadata": {},
   "outputs": [],
   "source": [
    "d1.extend('543')"
   ]
  },
  {
   "cell_type": "code",
   "execution_count": 70,
   "id": "35c0efa6",
   "metadata": {},
   "outputs": [
    {
     "data": {
      "text/plain": [
       "deque([1, 4, 4, 5, '5', '4', '3'])"
      ]
     },
     "execution_count": 70,
     "metadata": {},
     "output_type": "execute_result"
    }
   ],
   "source": [
    "d1"
   ]
  },
  {
   "cell_type": "code",
   "execution_count": 72,
   "id": "d36e558f",
   "metadata": {},
   "outputs": [
    {
     "name": "stdout",
     "output_type": "stream",
     "text": [
      "2.4\n"
     ]
    }
   ],
   "source": [
    "print(12/5)"
   ]
  },
  {
   "cell_type": "code",
   "execution_count": 75,
   "id": "f1303793",
   "metadata": {},
   "outputs": [],
   "source": [
    "def sumNums(num1,num2):\n",
    "    return num1+num2"
   ]
  },
  {
   "cell_type": "markdown",
   "id": "37d77cba",
   "metadata": {},
   "source": [
    "### sumNums(3,4)"
   ]
  },
  {
   "cell_type": "code",
   "execution_count": 77,
   "id": "b4a137fa",
   "metadata": {},
   "outputs": [],
   "source": [
    "c=3"
   ]
  },
  {
   "cell_type": "code",
   "execution_count": 81,
   "id": "34aae340",
   "metadata": {},
   "outputs": [
    {
     "data": {
      "text/plain": [
       "8"
      ]
     },
     "execution_count": 81,
     "metadata": {},
     "output_type": "execute_result"
    }
   ],
   "source": [
    "def addnum(a):\n",
    "    global c\n",
    "    c=c+2\n",
    "    return a+c\n",
    "addnum(3)"
   ]
  },
  {
   "cell_type": "code",
   "execution_count": 82,
   "id": "fc7f98b1",
   "metadata": {},
   "outputs": [],
   "source": [
    "my_dict = {'name': 'Jack', 'age': 26}"
   ]
  },
  {
   "cell_type": "code",
   "execution_count": 85,
   "id": "d9338e0a",
   "metadata": {},
   "outputs": [
    {
     "ename": "KeyError",
     "evalue": "26",
     "output_type": "error",
     "traceback": [
      "\u001b[1;31m---------------------------------------------------------------------------\u001b[0m",
      "\u001b[1;31mKeyError\u001b[0m                                  Traceback (most recent call last)",
      "\u001b[1;32m~\\AppData\\Local\\Temp/ipykernel_20384/800458731.py\u001b[0m in \u001b[0;36m<module>\u001b[1;34m\u001b[0m\n\u001b[1;32m----> 1\u001b[1;33m \u001b[0mprint\u001b[0m\u001b[1;33m(\u001b[0m\u001b[0mmy_dict\u001b[0m\u001b[1;33m[\u001b[0m\u001b[1;36m26\u001b[0m\u001b[1;33m]\u001b[0m\u001b[1;33m)\u001b[0m\u001b[1;33m\u001b[0m\u001b[1;33m\u001b[0m\u001b[0m\n\u001b[0m",
      "\u001b[1;31mKeyError\u001b[0m: 26"
     ]
    }
   ],
   "source": [
    "print(my_dict[26])"
   ]
  },
  {
   "cell_type": "code",
   "execution_count": 86,
   "id": "fe72a755",
   "metadata": {},
   "outputs": [
    {
     "ename": "SyntaxError",
     "evalue": "invalid syntax (Temp/ipykernel_20384/3717553370.py, line 1)",
     "output_type": "error",
     "traceback": [
      "\u001b[1;36m  File \u001b[1;32m\"C:\\Users\\ariks\\AppData\\Local\\Temp/ipykernel_20384/3717553370.py\"\u001b[1;36m, line \u001b[1;32m1\u001b[0m\n\u001b[1;33m    8//\u001b[0m\n\u001b[1;37m       ^\u001b[0m\n\u001b[1;31mSyntaxError\u001b[0m\u001b[1;31m:\u001b[0m invalid syntax\n"
     ]
    }
   ],
   "source": [
    "8//"
   ]
  },
  {
   "cell_type": "code",
   "execution_count": 87,
   "id": "a39408bd",
   "metadata": {},
   "outputs": [
    {
     "data": {
      "text/plain": [
       "1"
      ]
     },
     "execution_count": 87,
     "metadata": {},
     "output_type": "execute_result"
    }
   ],
   "source": [
    "8//5"
   ]
  },
  {
   "cell_type": "code",
   "execution_count": 97,
   "id": "02408ed1",
   "metadata": {},
   "outputs": [],
   "source": [
    "s= '{[]}'\n",
    "s = s.replace('()','').replace('{}','').replace('[]','')\n"
   ]
  },
  {
   "cell_type": "code",
   "execution_count": 98,
   "id": "47c90ba4",
   "metadata": {},
   "outputs": [
    {
     "name": "stdout",
     "output_type": "stream",
     "text": [
      "{}\n"
     ]
    }
   ],
   "source": [
    "print(s)"
   ]
  },
  {
   "cell_type": "code",
   "execution_count": 99,
   "id": "d85543d4",
   "metadata": {},
   "outputs": [
    {
     "name": "stdout",
     "output_type": "stream",
     "text": [
      "\n"
     ]
    }
   ],
   "source": [
    "s = s.replace('()','').replace('{}','').replace('[]','')\n",
    "print(s)"
   ]
  },
  {
   "cell_type": "code",
   "execution_count": null,
   "id": "55f3a232",
   "metadata": {},
   "outputs": [],
   "source": []
  }
 ],
 "metadata": {
  "kernelspec": {
   "display_name": "Python 3 (ipykernel)",
   "language": "python",
   "name": "python3"
  },
  "language_info": {
   "codemirror_mode": {
    "name": "ipython",
    "version": 3
   },
   "file_extension": ".py",
   "mimetype": "text/x-python",
   "name": "python",
   "nbconvert_exporter": "python",
   "pygments_lexer": "ipython3",
   "version": "3.9.7"
  }
 },
 "nbformat": 4,
 "nbformat_minor": 5
}
